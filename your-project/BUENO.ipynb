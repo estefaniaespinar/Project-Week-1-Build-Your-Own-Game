{
 "cells": [
  {
   "cell_type": "code",
   "execution_count": null,
   "metadata": {},
   "outputs": [
    {
     "name": "stdout",
     "output_type": "stream",
     "text": [
      "Let's start. Guess the number to win a special prize!. \n",
      "The machine already chose.\n",
      "You have 3 attempts! Good luck\n",
      "Please, type a number from 1 to 15: 12\n",
      "12\n",
      "The number is lower than the one the machine chose.\n",
      "You have 2 left.\n",
      "Please, type a number from 1 to 15: 14\n",
      "14\n",
      "The number is lower than the one the machine chose.\n",
      "You have 1 left.\n",
      "Please, type a number from 1 to 15: 15\n",
      "15\n",
      "Congatulations, YOU WON!!\n"
     ]
    }
   ],
   "source": [
    "import random\n",
    "#variables \n",
    "\n",
    "attempts = 3\n",
    "intentos = 2\n",
    "n_num = \"Please, type a number from 1 to 15: \"\n",
    "w_num = \"The number must be an integer from 1 to 15. Please, try again.\"\n",
    "winer = ''\n",
    "\n",
    "#START\n",
    "\n",
    "#initial message:\n",
    "print(f\"Let's start. Guess the number to win a special prize!. \")\n",
    "\n",
    "machine_n=int(random.randrange(1,16))\n",
    "print(\"The machine already chose.\")\n",
    "\n",
    "print(f\"You have {attempts} attempts! Good luck\")\n",
    "\n",
    "def right_int():\n",
    "    n_num = \"Please, type a number from 1 to 15: \"\n",
    "    w_num= \"The number must be an integer from 1 to 15. Please, try again.\"\n",
    "    n_user=input(n_num)\n",
    "   \n",
    "    while not n_user.isdigit() or int(n_user) not in range(1,16):\n",
    "        n_user = input(w_num)\n",
    "        \n",
    "    return int(n_user)\n",
    "\n",
    "while intentos >= 0:\n",
    "    n_user=right_int()\n",
    "    print(n_user)\n",
    "    if n_user > machine_n:\n",
    "        print('The number is higher than the one the machine chose.')\n",
    "        intentos-=1\n",
    "        print(f'You have {intentos + 1} attempts left.')\n",
    "        \n",
    "    elif n_user < machine_n:\n",
    "        print('The number is lower than the one the machine chose.')\n",
    "        intentos-=1\n",
    "        print(f'You have {intentos + 1} left.')\n",
    "            \n",
    "    elif n_user == machine_n:\n",
    "        winer=True\n",
    "        break\n",
    "    \n",
    "\n",
    "        \n",
    "if winer:\n",
    "    print(\"Congatulations, YOU WON!!\")\n",
    "else:\n",
    "    print(f\"the number chosed by the machine was: {machine_n}\")\n",
    "    print(\"GAME OVER\")"
   ]
  }
 ],
 "metadata": {
  "kernelspec": {
   "display_name": "Python 3",
   "language": "python",
   "name": "python3"
  },
  "language_info": {
   "codemirror_mode": {
    "name": "ipython",
    "version": 3
   },
   "file_extension": ".py",
   "mimetype": "text/x-python",
   "name": "python",
   "nbconvert_exporter": "python",
   "pygments_lexer": "ipython3",
   "version": "3.6.3"
  }
 },
 "nbformat": 4,
 "nbformat_minor": 2
}
